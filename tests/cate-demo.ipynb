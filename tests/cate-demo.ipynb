{
 "cells": [
  {
   "cell_type": "code",
   "execution_count": null,
   "id": "6c9aa75c-599d-4289-8edb-bef34e8febea",
   "metadata": {},
   "outputs": [],
   "source": [
    "import json\n",
    "import os.path\n",
    "import numpy as np\n",
    "import xarray as xr\n",
    "import geopandas as gpd\n",
    "\n",
    "from xcube.core.store import new_data_store\n",
    "from xcube.core.geom import rasterize_features\n",
    "from xcube.core.geom import mask_dataset_by_geometry\n",
    "from xcube.core.resampling.affine import affine_transform_dataset\n",
    "from xcube.core.gridmapping import GridMapping"
   ]
  },
  {
   "cell_type": "markdown",
   "id": "bd2f5211-ad8a-4c88-be05-b87b4efe1348",
   "metadata": {},
   "source": [
    "---\n",
    "### Open Country Geometries"
   ]
  },
  {
   "cell_type": "code",
   "execution_count": null,
   "id": "3127ff26-c9d4-41b5-9042-01eb4e26f59c",
   "metadata": {},
   "outputs": [],
   "source": [
    "with open('../resources/countries-50m.geojson') as fp:\n",
    "    features = json.load(fp)\n",
    "features\n",
    "\n",
    "features = gpd.GeoDataFrame.from_features(features)\n",
    "features.plot(figsize=(10, 10))"
   ]
  },
  {
   "cell_type": "code",
   "execution_count": null,
   "id": "003d4d46-a903-4b6c-a08d-a55d4b54a114",
   "metadata": {},
   "outputs": [],
   "source": [
    "#features"
   ]
  },
  {
   "cell_type": "code",
   "execution_count": null,
   "id": "e33b5dbb-dc72-4a4e-ac9b-e19d5778174b",
   "metadata": {},
   "outputs": [],
   "source": [
    "desired_point = dict(lon=38., lat=0.)\n",
    "desired_country = 'Kenya'\n",
    "\n",
    "#desired_point = dict(lon=-4.75, lat=40.35)\n",
    "#desired_country = 'Spain'\n",
    "\n",
    "desired_feature = features.loc[features['sovereignt'] == desired_country]\n",
    "desired_feature"
   ]
  },
  {
   "cell_type": "code",
   "execution_count": null,
   "id": "9273bf12-df9c-4c7e-9585-a6f3fbc86577",
   "metadata": {},
   "outputs": [],
   "source": [
    "desired_geometry = desired_feature.iloc[0].geometry\n",
    "desired_geometry"
   ]
  },
  {
   "cell_type": "markdown",
   "id": "d2f5c526-d858-4ec0-abb5-56736d2f2975",
   "metadata": {},
   "source": [
    "---\n",
    "### Inspect CCI-Toolbox' Zarr Store (high performance data access)"
   ]
  },
  {
   "cell_type": "code",
   "execution_count": null,
   "id": "7d521bd0-2762-456e-8084-9efbdb5c1752",
   "metadata": {},
   "outputs": [],
   "source": [
    "store = new_data_store('ccizarr')"
   ]
  },
  {
   "cell_type": "code",
   "execution_count": null,
   "id": "5483ca86-d41a-45e5-8b34-7b15f07631aa",
   "metadata": {},
   "outputs": [],
   "source": [
    "list(store.get_data_ids())"
   ]
  },
  {
   "cell_type": "markdown",
   "id": "dfc6df91-090c-48ca-b889-0fbbd9678bbb",
   "metadata": {},
   "source": [
    "---\n",
    "### Open Land Cover ECV"
   ]
  },
  {
   "cell_type": "code",
   "execution_count": null,
   "id": "fd4a4561-f2ff-4781-b7a8-c773fe5c6f42",
   "metadata": {},
   "outputs": [],
   "source": [
    "lc_dataset = store.open_data('ESACCI-LC-L4-LCCS-Map-300m-P1Y-1992-2015-v2.0.7b.zarr')\n",
    "lc_dataset"
   ]
  },
  {
   "cell_type": "code",
   "execution_count": null,
   "id": "94309849-a192-417d-9984-30ccbe598bff",
   "metadata": {},
   "outputs": [],
   "source": [
    "lc_dataset.lccs_class"
   ]
  },
  {
   "cell_type": "code",
   "execution_count": null,
   "id": "62200442-1b8f-4526-905b-184fedbdd70d",
   "metadata": {},
   "outputs": [],
   "source": [
    "lc_dataset.time"
   ]
  },
  {
   "cell_type": "code",
   "execution_count": null,
   "id": "e0fef776-3dcd-491b-a087-63ee7a94bae3",
   "metadata": {},
   "outputs": [],
   "source": [
    "lc_dataset_subset = mask_dataset_by_geometry(lc_dataset, desired_geometry, all_touched=True)"
   ]
  },
  {
   "cell_type": "code",
   "execution_count": null,
   "id": "444130a8-ef9c-45ef-9f15-6850fdb9785c",
   "metadata": {},
   "outputs": [],
   "source": [
    "lc_dataset_subset.lccs_class.isel(time=0).plot.imshow(cmap=\"tab20b\")"
   ]
  },
  {
   "cell_type": "markdown",
   "id": "d6f87c60-7047-4e6d-9e8c-c894146e7cb2",
   "metadata": {},
   "source": [
    "---\n",
    "### Open Soil Moisture ECV"
   ]
  },
  {
   "cell_type": "code",
   "execution_count": null,
   "id": "7d549736-5cfc-4ed5-83d7-7386ced6faec",
   "metadata": {},
   "outputs": [],
   "source": [
    "sm_dataset = store.open_data('ESACCI-SOILMOISTURE-L3S-SSMV-COMBINED-1978-2020-fv05.3.zarr')\n",
    "sm_dataset"
   ]
  },
  {
   "cell_type": "code",
   "execution_count": null,
   "id": "664a18d7-bff3-45dc-b3ff-39dc20c94175",
   "metadata": {},
   "outputs": [],
   "source": [
    "sm_dataset.sm"
   ]
  },
  {
   "cell_type": "code",
   "execution_count": null,
   "id": "8fb05f27-22d8-42c9-8f9d-03b235a28781",
   "metadata": {},
   "outputs": [],
   "source": [
    "sm_dataset_subset = mask_dataset_by_geometry(sm_dataset, desired_geometry, all_touched=True)"
   ]
  },
  {
   "cell_type": "code",
   "execution_count": null,
   "id": "c938aa12-4a46-412f-9de1-7d48e7cd29f9",
   "metadata": {},
   "outputs": [],
   "source": [
    "sm_dataset_subset_annual = sm_dataset_subset.resample(time='1Y').mean()"
   ]
  },
  {
   "cell_type": "code",
   "execution_count": null,
   "id": "88b9c4dc-b5c0-4fc9-9b1d-7a788bff6f59",
   "metadata": {},
   "outputs": [],
   "source": [
    "sm_dataset_subset_annual.sm.time"
   ]
  },
  {
   "cell_type": "code",
   "execution_count": null,
   "id": "1002ad5a-0724-4243-b47f-aa0e681d2146",
   "metadata": {},
   "outputs": [],
   "source": [
    "ds_name = f\"sm_dataset_annual_{desired_country}.zarr\"\n",
    "if not os.path.exists(ds_name):\n",
    "    sm_dataset_subset_annual.to_zarr(f\"sm_dataset_annual_{desired_country}.zarr\")\n",
    "sm_dataset_subset_annual = xr.open_zarr(ds_name)"
   ]
  },
  {
   "cell_type": "code",
   "execution_count": null,
   "id": "3912c469-dc3b-4162-b708-6f04ff2c4a64",
   "metadata": {},
   "outputs": [],
   "source": [
    "sm_dataset_subset_annual.sm.isel(time=0).plot.imshow(cmap=\"Blues\")"
   ]
  },
  {
   "cell_type": "code",
   "execution_count": null,
   "id": "0e742aae-f303-4552-8620-cb25357a279b",
   "metadata": {},
   "outputs": [],
   "source": [
    "sm_dataset_subset_annual.sm.sel(**desired_point, method='nearest').plot(figsize=(20, 4))"
   ]
  },
  {
   "cell_type": "code",
   "execution_count": null,
   "id": "9dfabcc7-6bca-4615-b117-5812506a59af",
   "metadata": {},
   "outputs": [],
   "source": [
    "sm_dataset_subset_annual.sm.mean(dim=['lat','lon']).plot(figsize=(20, 4))"
   ]
  },
  {
   "cell_type": "markdown",
   "id": "ba01e0b1-e369-42c9-914c-b99d475aed9d",
   "metadata": {},
   "source": [
    "---\n",
    "### Combination"
   ]
  },
  {
   "cell_type": "code",
   "execution_count": null,
   "id": "de559e8e-b884-4d56-9bff-7f6794cc9350",
   "metadata": {},
   "outputs": [],
   "source": [
    "desired_year = '2015-01-01'"
   ]
  },
  {
   "cell_type": "code",
   "execution_count": null,
   "id": "ba702838-1ade-42bf-9640-a887b1bd5108",
   "metadata": {},
   "outputs": [],
   "source": [
    "ds_name = f\"lc_dataset_subset_slice_{desired_country}.zarr\"\n",
    "if not os.path.exists(ds_name):\n",
    "    lc_dataset_subset_slice = lc_dataset_subset.sel(time=desired_year, method='nearest')\n",
    "    lc_dataset_subset_slice = lc_dataset_subset_slice.chunk(dict(lon=2000, lat=2000))\n",
    "    lc_dataset_subset_slice.to_zarr(ds_name)\n",
    "lc_dataset_subset_slice = xr.open_zarr(ds_name)\n",
    "lc_dataset_subset_slice"
   ]
  },
  {
   "cell_type": "code",
   "execution_count": null,
   "id": "0808e39b-d2d9-41b2-adca-bc8d82138ba3",
   "metadata": {},
   "outputs": [],
   "source": [
    "lc = lc_dataset_subset_slice.lccs_class\n",
    "lc"
   ]
  },
  {
   "cell_type": "code",
   "execution_count": null,
   "id": "f4337a0e-6698-451f-ac50-2c13a3357b65",
   "metadata": {},
   "outputs": [],
   "source": [
    "lc.plot.imshow(cmap=\"tab20b\", figsize=(12, 10))"
   ]
  },
  {
   "cell_type": "code",
   "execution_count": null,
   "id": "105a11b5-4bfe-45c4-b8e5-60d538118ee7",
   "metadata": {},
   "outputs": [],
   "source": [
    "sm_dataset_subset_slice = sm_dataset_subset_annual.sel(time=desired_year, method='nearest')\n",
    "sm = sm_dataset_subset_slice.sm\n",
    "sm"
   ]
  },
  {
   "cell_type": "code",
   "execution_count": null,
   "id": "2d1bbf22-0064-48a8-8273-358987c844c2",
   "metadata": {},
   "outputs": [],
   "source": [
    "sm.plot.imshow(cmap='Blues', figsize=(12, 10))"
   ]
  },
  {
   "cell_type": "code",
   "execution_count": null,
   "id": "81d75036-1aaa-4d01-80ea-ddf891685be0",
   "metadata": {},
   "outputs": [],
   "source": [
    "ds_name = f\"sm_dataset_coreg_{desired_country}.zarr\"\n",
    "if not os.path.exists(ds_name):\n",
    "    sm_dataset_coreg = affine_transform_dataset(\n",
    "        sm_dataset_subset_slice, \n",
    "        GridMapping.from_dataset(sm_dataset_subset_slice),\n",
    "        GridMapping.from_dataset(lc_dataset_subset_slice)\n",
    "    )\n",
    "    sm_dataset_coreg.to_zarr(ds_name)\n",
    "sm_dataset_coreg = xr.open_zarr(ds_name)\n",
    "sm = sm_dataset_coreg.sm\n",
    "sm"
   ]
  },
  {
   "cell_type": "code",
   "execution_count": null,
   "id": "dd54a3a6-f8c1-4d7e-b194-e7217b9f61e2",
   "metadata": {},
   "outputs": [],
   "source": [
    "sm.plot.imshow(cmap='Blues', figsize=(12, 10))"
   ]
  },
  {
   "cell_type": "code",
   "execution_count": null,
   "id": "1af1f4ca-44be-47b8-873c-63dcb7d5f6de",
   "metadata": {},
   "outputs": [],
   "source": [
    "mask = (lc == 120) | (lc == 130)\n",
    "mask"
   ]
  },
  {
   "cell_type": "code",
   "execution_count": null,
   "id": "f743670f-e06b-4bea-ac4a-b5834f54ccd0",
   "metadata": {},
   "outputs": [],
   "source": [
    "mask.data.visualize()"
   ]
  },
  {
   "cell_type": "code",
   "execution_count": null,
   "id": "b66e347a-f650-487f-9dc5-dbf2cad205f0",
   "metadata": {},
   "outputs": [],
   "source": [
    "mask.plot.imshow(cmap='binary', figsize=(12, 10))"
   ]
  },
  {
   "cell_type": "code",
   "execution_count": null,
   "id": "db6e4f34-7ff7-425d-8cf4-c312c78a9eb8",
   "metadata": {},
   "outputs": [],
   "source": [
    "mask.indexes"
   ]
  },
  {
   "cell_type": "code",
   "execution_count": null,
   "id": "1ad11b6a-fdf6-497f-9b10-b0f478f466a5",
   "metadata": {},
   "outputs": [],
   "source": [
    "sm.indexes"
   ]
  },
  {
   "cell_type": "code",
   "execution_count": null,
   "id": "769bbee8-e17f-4a3f-abc5-a13a9e1e10cd",
   "metadata": {},
   "outputs": [],
   "source": [
    "ds = xr.Dataset(dict(sm=sm.drop(\"time\"), lc=lc.drop(\"time\")))\n",
    "ds"
   ]
  },
  {
   "cell_type": "code",
   "execution_count": null,
   "id": "f811db81-6421-41a4-884f-6ec5e014c1a9",
   "metadata": {},
   "outputs": [],
   "source": [
    "ds.sm.where(ds.lc == 110)"
   ]
  },
  {
   "cell_type": "code",
   "execution_count": null,
   "id": "a36d6bd1-0aa2-447c-b6bb-9b81af647ae7",
   "metadata": {},
   "outputs": [],
   "source": [
    "import dask.array as da\n",
    "sm_masked = da.where(mask.data, sm.data, np.nan)\n",
    "sm_masked"
   ]
  },
  {
   "cell_type": "code",
   "execution_count": null,
   "id": "dd1ac4a8-96b1-4922-862b-770a2edc6b06",
   "metadata": {},
   "outputs": [],
   "source": [
    "xr.DataArray(sm_masked, coords=sm.coords).plot.imshow(cmap='Blues', figsize=(12, 10))"
   ]
  },
  {
   "cell_type": "code",
   "execution_count": null,
   "id": "ac682e76-2d85-48be-8065-0c6aaf82d406",
   "metadata": {},
   "outputs": [],
   "source": [
    "sm_masked.data.visualize()"
   ]
  },
  {
   "cell_type": "code",
   "execution_count": null,
   "id": "14dc7382-5778-45c7-89eb-c10f2fffc2b4",
   "metadata": {},
   "outputs": [],
   "source": [
    "sm_masked.plot.imshow()"
   ]
  },
  {
   "cell_type": "code",
   "execution_count": null,
   "id": "5dddeb22-cbd4-4b98-b4a7-3fe208005126",
   "metadata": {},
   "outputs": [],
   "source": [
    "sm_data = np.where(mask, sm, np.nan)\n",
    "sm_data"
   ]
  },
  {
   "cell_type": "code",
   "execution_count": null,
   "id": "6742044a-108b-4150-8ea3-e0608aa7d010",
   "metadata": {},
   "outputs": [],
   "source": [
    "xr.DataArray(sm_data, coords=sm.coords).plot.imshow(cmap='Blues', figsize=(12, 10))"
   ]
  },
  {
   "cell_type": "code",
   "execution_count": null,
   "id": "507adef5-431b-4d50-9bb4-bf19fc209568",
   "metadata": {},
   "outputs": [],
   "source": [
    "lc_groups = lc.groupby(lc)\n",
    "lc_groups"
   ]
  },
  {
   "cell_type": "code",
   "execution_count": null,
   "id": "2515f454-9f2e-4201-acaa-31fe548bda3d",
   "metadata": {},
   "outputs": [],
   "source": [
    "lc_counts = lc_groups.count()\n"
   ]
  },
  {
   "cell_type": "code",
   "execution_count": null,
   "id": "52bb3095-490d-4bee-9ff0-ccade4fbd4be",
   "metadata": {},
   "outputs": [],
   "source": [
    "lc_counts.plot()"
   ]
  },
  {
   "cell_type": "code",
   "execution_count": null,
   "id": "5856a77f-757d-401c-b922-4b748750d8f9",
   "metadata": {},
   "outputs": [],
   "source": [
    "sorted([(int(item.lccs_class), int(item)) for item in lc_counts], key=lambda k: k[1], reverse=True) "
   ]
  },
  {
   "cell_type": "code",
   "execution_count": null,
   "id": "ce0afa7d-d7d9-4cef-9fce-db421cb48b1a",
   "metadata": {},
   "outputs": [],
   "source": [
    "lc.where(lc == 10).plot.imshow(figsize=(20,20))"
   ]
  },
  {
   "cell_type": "code",
   "execution_count": null,
   "id": "8dd95ac4-fdf8-40c0-a906-dcafeb13aa97",
   "metadata": {},
   "outputs": [],
   "source": [
    "#sm_grouped_by_lc = sm.groupby(lc)"
   ]
  },
  {
   "cell_type": "code",
   "execution_count": null,
   "id": "452d233a-e2bb-4700-bfb5-1973890822ae",
   "metadata": {},
   "outputs": [],
   "source": []
  },
  {
   "cell_type": "code",
   "execution_count": null,
   "id": "164e6d82-69f3-47ac-b9d7-8d60fdd8fbec",
   "metadata": {},
   "outputs": [],
   "source": [
    "#sm_grouped_by_lc"
   ]
  },
  {
   "cell_type": "code",
   "execution_count": null,
   "id": "42f86444-6b73-4f4c-9686-c77e3275e072",
   "metadata": {},
   "outputs": [],
   "source": [
    "#m_grouped_by_lc.count()"
   ]
  },
  {
   "cell_type": "code",
   "execution_count": null,
   "id": "b4cd2471-6828-4aee-9591-fe705a75e1f7",
   "metadata": {},
   "outputs": [],
   "source": [
    "list(zip(lc.attrs['flag_meanings'].split(' '), lc.attrs['flag_values']))"
   ]
  },
  {
   "cell_type": "code",
   "execution_count": null,
   "id": "8afd61f8-522f-416a-8a4e-ad12816de0f1",
   "metadata": {},
   "outputs": [],
   "source": [
    "lc_dataset_subset.lccs_class.where(lc_dataset_subset.lccs_class == 10).count(dim=('lat', 'lon')).plot()"
   ]
  },
  {
   "cell_type": "code",
   "execution_count": null,
   "id": "c549c354-869f-498c-8ca7-d941c5596e50",
   "metadata": {},
   "outputs": [],
   "source": [
    "lc_dataset_subset.lccs_class.where(lc_dataset_subset.lccs_class == 110).count(dim=('lat', 'lon')).plot()"
   ]
  },
  {
   "cell_type": "code",
   "execution_count": null,
   "id": "8bbffdf5-1126-4758-8af4-b4094d5c0861",
   "metadata": {},
   "outputs": [],
   "source": [
    "lc_dataset_subset.lccs_class.where(lc_dataset_subset.lccs_class == 130).count(dim=('lat', 'lon')).plot()"
   ]
  },
  {
   "cell_type": "code",
   "execution_count": null,
   "id": "626c84c4-6d82-4309-8797-b54ca4988293",
   "metadata": {},
   "outputs": [],
   "source": [
    "lc_dataset_subset.lccs_class.where(lc_dataset_subset.lccs_class == 40).count(dim=('lat', 'lon')).plot()"
   ]
  },
  {
   "cell_type": "code",
   "execution_count": null,
   "id": "852552db-82f4-4b47-8992-d877679d7f0b",
   "metadata": {},
   "outputs": [],
   "source": [
    "lc_dataset_subset.lccs_class.where((lc_dataset_subset.lccs_class >= 10) & (lc_dataset_subset.lccs_class <= 12)).count(dim=('lat', 'lon')).plot()"
   ]
  },
  {
   "cell_type": "code",
   "execution_count": null,
   "id": "4d0cec03-7f0d-4532-bf3e-fdceb407017d",
   "metadata": {},
   "outputs": [],
   "source": [
    "lc_dataset_subset.lccs_class.where(lc_dataset_subset.lccs_class == 20).count(dim=('lat', 'lon')).plot()"
   ]
  },
  {
   "cell_type": "code",
   "execution_count": null,
   "id": "11fef886-f509-4b9c-a8c6-a7ad822f2091",
   "metadata": {},
   "outputs": [],
   "source": [
    "lc_dataset_subset.lccs_class.where(lc_dataset_subset.lccs_class == 200).count(dim=('lat', 'lon')).plot()"
   ]
  },
  {
   "cell_type": "code",
   "execution_count": null,
   "id": "5a3abd49-560c-49da-8ffd-621b680dfd75",
   "metadata": {},
   "outputs": [],
   "source": [
    "lc_dataset_subset.lccs_class.where(lc_dataset_subset.lccs_class > 0).count(dim=('lat', 'lon')).plot()"
   ]
  },
  {
   "cell_type": "code",
   "execution_count": null,
   "id": "bb358e58-32c0-46a0-a4c6-ee592cdccd67",
   "metadata": {},
   "outputs": [],
   "source": []
  }
 ],
 "metadata": {
  "kernelspec": {
   "display_name": "Python 3 (ipykernel)",
   "language": "python",
   "name": "python3"
  },
  "language_info": {
   "codemirror_mode": {
    "name": "ipython",
    "version": 3
   },
   "file_extension": ".py",
   "mimetype": "text/x-python",
   "name": "python",
   "nbconvert_exporter": "python",
   "pygments_lexer": "ipython3",
   "version": "3.9.7"
  }
 },
 "nbformat": 4,
 "nbformat_minor": 5
}
